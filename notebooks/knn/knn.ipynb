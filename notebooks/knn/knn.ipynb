{
 "cells": [
  {
   "cell_type": "code",
   "execution_count": 1,
   "metadata": {},
   "outputs": [
    {
     "data": {
      "text/plain": [
       "\"\\nif __name__ == '__main__':\\n    main()\\n    # A zero exit code causes the job to be marked a Succeeded.\\n    sys.exit(0)\\n\""
      ]
     },
     "execution_count": 1,
     "metadata": {},
     "output_type": "execute_result"
    }
   ],
   "source": [
    "import os\n",
    "import sys\n",
    "import pickle\n",
    "import pandas as pd\n",
    "from sklearn.datasets import load_iris\n",
    "from sklearn.metrics import accuracy_score\n",
    "from sklearn.neighbors import KNeighborsClassifier\n",
    "from sklearn.model_selection import train_test_split\n",
    "\n",
    "iris = load_iris()\n",
    "iris = pd.concat([pd.DataFrame(iris.target), pd.DataFrame(iris.data)], axis=1)\n",
    "iris.to_csv('./data/input/train.csv', header=False, index=False)\n",
    "\n",
    "def main():\n",
    "    print(os.listdir(\"data/input\"))\n",
    "    df = pd.read_csv(\n",
    "        \"data/input/train.csv\",\n",
    "        header=None,\n",
    "        names=[\"label\", \"feat1\", \"feat2\", \"feat3\", \"feat4\"])\n",
    "\n",
    "    X = df[[\"feat1\", \"feat2\", \"feat3\", \"feat4\"]].values\n",
    "    y = df[[\"label\"]].values.ravel()\n",
    "\n",
    "    X_train, X_test, y_train, y_test = train_test_split(X, y)\n",
    "    print(\"X_train:\", X_train.shape)\n",
    "    print(\"X_test:\", X_test.shape)\n",
    "    print(\"y_train:\", y_train.shape)\n",
    "    print(\"y_test:\", y_test.shape)\n",
    "\n",
    "    clf = KNeighborsClassifier(n_neighbors = 5)\n",
    "    print(\"fitting...\")\n",
    "    clf.fit(X_train, y_train)\n",
    "\n",
    "    print(\"predicting...\")\n",
    "    y_predictions = clf.predict(X_test)\n",
    "\n",
    "    accuracy = accuracy_score(y_test, y_predictions)\n",
    "\n",
    "    os.makedirs(\"data/output\", exist_ok=True)\n",
    "    model_path = \"data/output/model.pkl\"\n",
    "    pickle.dump(clf, open(model_path, 'wb'))\n",
    "\n",
    "'''\n",
    "if __name__ == '__main__':\n",
    "    main()\n",
    "    # A zero exit code causes the job to be marked a Succeeded.\n",
    "    sys.exit(0)\n",
    "'''"
   ]
  },
  {
   "cell_type": "code",
   "execution_count": 6,
   "metadata": {},
   "outputs": [
    {
     "name": "stdout",
     "output_type": "stream",
     "text": [
      "[2]\n"
     ]
    },
    {
     "name": "stderr",
     "output_type": "stream",
     "text": [
      "c:\\Users\\kaito\\AppData\\Local\\Programs\\Python\\Python38\\lib\\site-packages\\sklearn\\neighbors\\_classification.py:228: FutureWarning: Unlike other reduction functions (e.g. `skew`, `kurtosis`), the default behavior of `mode` typically preserves the axis it acts along. In SciPy 1.11.0, this behavior will change: the default value of `keepdims` will become False, the `axis` over which the statistic is taken will be eliminated, and the value None will no longer be accepted. Set `keepdims` to True or False to avoid this warning.\n",
      "  mode, _ = stats.mode(_y[neigh_ind, k], axis=1)\n"
     ]
    }
   ],
   "source": [
    "model_path = \"data/output/model.pkl\"\n",
    "clf = pickle.load(open(model_path, 'rb'))\n",
    "\n",
    "#[1.4, 3.5, 5.1, 0.2]:2(Versinica)\n",
    "#[6.5, 2.6, 4.4, 1.4]:1(Versicolor)\n",
    "#[5.9, 3.0, 5.2, 1.5]:2(Versinica)\n",
    "\n",
    "test = [[5.9, 3.0, 5.2, 1.5]]\n",
    "y_predictions = clf.predict(test)\n",
    "print(y_predictions)"
   ]
  }
 ],
 "metadata": {
  "kernelspec": {
   "display_name": "Python 3.8.2 ('venvknn': venv)",
   "language": "python",
   "name": "python3"
  },
  "language_info": {
   "codemirror_mode": {
    "name": "ipython",
    "version": 3
   },
   "file_extension": ".py",
   "mimetype": "text/x-python",
   "name": "python",
   "nbconvert_exporter": "python",
   "pygments_lexer": "ipython3",
   "version": "3.8.2"
  },
  "orig_nbformat": 4,
  "vscode": {
   "interpreter": {
    "hash": "5e1b8016bf4fa4c1d08c308f150e249ba5bead25f71b0087834efbe1262a29b2"
   }
  }
 },
 "nbformat": 4,
 "nbformat_minor": 2
}
